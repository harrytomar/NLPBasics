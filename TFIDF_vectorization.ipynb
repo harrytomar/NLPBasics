{
 "cells": [
  {
   "cell_type": "markdown",
   "metadata": {},
   "source": [
    "# Tfidf Vectorization Technique"
   ]
  },
  {
   "cell_type": "code",
   "execution_count": 13,
   "metadata": {},
   "outputs": [],
   "source": [
    " from sklearn.feature_extraction.text import TfidfVectorizer\n"
   ]
  },
  {
   "cell_type": "code",
   "execution_count": 20,
   "metadata": {},
   "outputs": [],
   "source": [
    " df = [ 'My first document is this.',\n",
    "           'My name is Harish.',\n",
    "           'And i like Machine Learning.',\n",
    "           'Is this the first document?', \n",
    "          ]"
   ]
  },
  {
   "cell_type": "code",
   "execution_count": 21,
   "metadata": {},
   "outputs": [],
   "source": [
    "tf = TfidfVectorizer()    # tf*idf"
   ]
  },
  {
   "cell_type": "code",
   "execution_count": 22,
   "metadata": {},
   "outputs": [],
   "source": [
    "X = tf.fit_transform(df)"
   ]
  },
  {
   "cell_type": "code",
   "execution_count": 23,
   "metadata": {},
   "outputs": [
    {
     "name": "stdout",
     "output_type": "stream",
     "text": [
      "  (0, 11)\t0.46346837948164166\n",
      "  (0, 4)\t0.3752175967124194\n",
      "  (0, 1)\t0.46346837948164166\n",
      "  (0, 2)\t0.46346837948164166\n",
      "  (0, 8)\t0.46346837948164166\n",
      "  (1, 3)\t0.5745795256791941\n",
      "  (1, 9)\t0.5745795256791941\n",
      "  (1, 4)\t0.3667466683744504\n",
      "  (1, 8)\t0.4530050977381881\n",
      "  (2, 5)\t0.5\n",
      "  (2, 7)\t0.5\n",
      "  (2, 6)\t0.5\n",
      "  (2, 0)\t0.5\n",
      "  (3, 10)\t0.5528163151092931\n",
      "  (3, 11)\t0.43584673254990375\n",
      "  (3, 4)\t0.3528554929793508\n",
      "  (3, 1)\t0.43584673254990375\n",
      "  (3, 2)\t0.43584673254990375\n"
     ]
    }
   ],
   "source": [
    "print(X)"
   ]
  },
  {
   "cell_type": "code",
   "execution_count": 24,
   "metadata": {},
   "outputs": [
    {
     "name": "stdout",
     "output_type": "stream",
     "text": [
      "['and', 'document', 'first', 'harish', 'is', 'learning', 'like', 'machine', 'my', 'name', 'the', 'this']\n"
     ]
    }
   ],
   "source": [
    "print(tf.get_feature_names())"
   ]
  },
  {
   "cell_type": "code",
   "execution_count": 25,
   "metadata": {},
   "outputs": [
    {
     "data": {
      "text/plain": [
       "array([[0.        , 0.46346838, 0.46346838, 0.        , 0.3752176 ,\n",
       "        0.        , 0.        , 0.        , 0.46346838, 0.        ,\n",
       "        0.        , 0.46346838],\n",
       "       [0.        , 0.        , 0.        , 0.57457953, 0.36674667,\n",
       "        0.        , 0.        , 0.        , 0.4530051 , 0.57457953,\n",
       "        0.        , 0.        ],\n",
       "       [0.5       , 0.        , 0.        , 0.        , 0.        ,\n",
       "        0.5       , 0.5       , 0.5       , 0.        , 0.        ,\n",
       "        0.        , 0.        ],\n",
       "       [0.        , 0.43584673, 0.43584673, 0.        , 0.35285549,\n",
       "        0.        , 0.        , 0.        , 0.        , 0.        ,\n",
       "        0.55281632, 0.43584673]])"
      ]
     },
     "execution_count": 25,
     "metadata": {},
     "output_type": "execute_result"
    }
   ],
   "source": [
    "X.toarray()"
   ]
  },
  {
   "cell_type": "code",
   "execution_count": null,
   "metadata": {},
   "outputs": [],
   "source": []
  },
  {
   "cell_type": "code",
   "execution_count": null,
   "metadata": {},
   "outputs": [],
   "source": []
  },
  {
   "cell_type": "code",
   "execution_count": null,
   "metadata": {},
   "outputs": [],
   "source": []
  }
 ],
 "metadata": {
  "kernelspec": {
   "display_name": "Python 3",
   "language": "python",
   "name": "python3"
  },
  "language_info": {
   "codemirror_mode": {
    "name": "ipython",
    "version": 3
   },
   "file_extension": ".py",
   "mimetype": "text/x-python",
   "name": "python",
   "nbconvert_exporter": "python",
   "pygments_lexer": "ipython3",
   "version": "3.7.3"
  }
 },
 "nbformat": 4,
 "nbformat_minor": 4
}
